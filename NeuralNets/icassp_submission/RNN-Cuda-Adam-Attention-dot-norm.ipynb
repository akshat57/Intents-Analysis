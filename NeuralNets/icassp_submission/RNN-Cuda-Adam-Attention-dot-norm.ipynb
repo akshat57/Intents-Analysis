{
 "cells": [
  {
   "cell_type": "code",
   "execution_count": 1,
   "metadata": {},
   "outputs": [],
   "source": [
    "import numpy as np\n",
    "import torch\n",
    "import psutil\n",
    "from torch.utils.data import Dataset, DataLoader\n",
    "import torch.nn.functional as F\n",
    "import torch.nn as nn\n",
    "import torch.optim as optim\n",
    "import time\n",
    "import matplotlib.pyplot as plt\n",
    "import random\n",
    "import sys\n",
    "import pickle\n",
    "from torch.optim import SGD"
   ]
  },
  {
   "cell_type": "code",
   "execution_count": 2,
   "metadata": {},
   "outputs": [],
   "source": [
    "sys.path.insert(1, '/home/ubuntu/Intents-Analysis/Analysis')\n",
    "#sys.path.insert(1, '/Users/manjugupta/Desktop/CMU_Courses/Intents/getting_intents/Analysis')"
   ]
  },
  {
   "cell_type": "code",
   "execution_count": 3,
   "metadata": {},
   "outputs": [],
   "source": [
    "from get_vocab import load_data, get_vocab\n",
    "from get_frequency import get_frequency"
   ]
  },
  {
   "cell_type": "code",
   "execution_count": 4,
   "metadata": {},
   "outputs": [
    {
     "name": "stdout",
     "output_type": "stream",
     "text": [
      "CUDA is True\n",
      "8\n"
     ]
    }
   ],
   "source": [
    "#Check if cuda is available\n",
    "cuda = torch.cuda.is_available()\n",
    "print('CUDA is', cuda)\n",
    "\n",
    "num_workers = 8 if cuda else 0\n",
    "\n",
    "print(num_workers)"
   ]
  },
  {
   "cell_type": "code",
   "execution_count": 26,
   "metadata": {},
   "outputs": [],
   "source": [
    "##Needed Functions\n",
    "def load_data(filename):\n",
    "    a_file = open(filename, \"rb\")\n",
    "    output = pickle.load(a_file)\n",
    "    a_file.close()\n",
    "    return output\n",
    "\n",
    "\n",
    "def create_vocabulary(train_file):\n",
    "    '''This function creates an indexed vocabulary dictionary from the training file'''\n",
    "    \n",
    "    vocab, _ = get_vocab(1, train_file)\n",
    "    \n",
    "    phone_to_idx = {'unk': 1}#Padding indx = 0, unkown_idx = 1, indexing starts from 2\n",
    "    idx_to_phone = {0: 'pad', 1: 'unk'}\n",
    "    for i, phone in enumerate(vocab):\n",
    "        phone_to_idx[phone] = i + 2\n",
    "        idx_to_phone[i+2] = phone\n",
    "        \n",
    "    return phone_to_idx, idx_to_phone "
   ]
  },
  {
   "cell_type": "code",
   "execution_count": 27,
   "metadata": {},
   "outputs": [],
   "source": [
    "class MyDataset(Dataset):\n",
    "    def __init__(self, data_file, intent_labels, phone_to_idx):\n",
    "        data = load_data(data_file)\n",
    "        self.all_data = []\n",
    "        \n",
    "        for intent in data:\n",
    "            for utterance in data[intent]:\n",
    "                utterance_to_idx = []\n",
    "                \n",
    "                for phone in utterance:\n",
    "                    if phone not in phone_to_idx:\n",
    "                        phone = 'unk'\n",
    "    \n",
    "                    utterance_to_idx.append(phone_to_idx[phone])\n",
    "                \n",
    "                self.all_data.append([utterance_to_idx, intent_labels[intent]])\n",
    "            \n",
    "    def __len__(self):\n",
    "        return len(self.all_data)\n",
    "\n",
    "    def __getitem__(self,index):\n",
    "        input_vector = self.all_data[index][0]\n",
    "        label = self.all_data[index][1]\n",
    "\n",
    "        return input_vector, label"
   ]
  },
  {
   "cell_type": "code",
   "execution_count": 28,
   "metadata": {},
   "outputs": [],
   "source": [
    "def collate_indic(tuple_lst):\n",
    "\n",
    "    x_lst = [x[0] for x in tuple_lst]\n",
    "    y_lst = [x[1] for x in tuple_lst]\n",
    "\n",
    "    # collate x\n",
    "    B = len(tuple_lst)#Number of training samples\n",
    "    T = max(len(x) for x in x_lst)#Max length of a sentence\n",
    "\n",
    "    # x values\n",
    "    x = torch.zeros([B, T], dtype=torch.int64)\n",
    "    lengths = torch.zeros(B, dtype=torch.int64)\n",
    "\n",
    "    for i, x_np in enumerate(x_lst):\n",
    "        lengths[i] = len(x_np)\n",
    "        x[i,:len(x_np)] = torch.tensor(x_np)\n",
    "\n",
    "    # collate y\n",
    "    y = torch.zeros([B, 6])\n",
    "    for i, y_label in enumerate(y_lst):\n",
    "        y[i][y_label] = 1\n",
    "        \n",
    "    ids = torch.argsort(lengths, descending=True)\n",
    "\n",
    "    return x[ids], lengths[ids], y[ids]"
   ]
  },
  {
   "cell_type": "code",
   "execution_count": 29,
   "metadata": {},
   "outputs": [
    {
     "name": "stdout",
     "output_type": "stream",
     "text": [
      "62\n"
     ]
    }
   ],
   "source": [
    "#Defining constants and labels\n",
    "intent_labels = {'movie-tickets':0, 'auto-repair':1, 'restaurant-table':2, 'pizza-ordering':3, 'uber-lyft':4, 'coffee-ordering':5}\n",
    "labels_to_intents = {0: 'movie-tickets', 1: 'auto-repair', 2: 'restaurant-table', 3: 'pizza-ordering', 4:'uber-lyft', 5:'coffee-ordering'}\n",
    "train_language = 'hindi'\n",
    "test_language = 'hindi'\n",
    "\n",
    "#Loading data\n",
    "train_file = '/home/ubuntu/Intents-Analysis/TaskMasterData/Get_Phones_Combos/1_lang_train_split/taskmaster_training_' + train_language + '.pkl'\n",
    "test_file = '/home/ubuntu/Intents-Analysis/TaskMasterData/Get_Phones_Combos/1_language/taskmaster_testing_' + test_language + '.pkl'\n",
    "\n",
    "#create vocabulary and phone_to_idx\n",
    "phone_to_idx, idx_to_phone  = create_vocabulary(train_file)\n",
    "print(len(phone_to_idx))"
   ]
  },
  {
   "cell_type": "code",
   "execution_count": 9,
   "metadata": {},
   "outputs": [],
   "source": [
    "train_dataset = MyDataset(train_file, intent_labels, phone_to_idx)\n",
    "train_loader_args = dict(shuffle=True, batch_size=128, num_workers=num_workers, pin_memory=True) if cuda\\\n",
    "                    else dict(shuffle=True, batch_size=32)\n",
    "train_loader = DataLoader(train_dataset, **train_loader_args, collate_fn=collate_indic)\n",
    "\n",
    "test_dataset = MyDataset(test_file, intent_labels, phone_to_idx)\n",
    "test_loader_args = dict(shuffle=False, batch_size=128, num_workers=num_workers, pin_memory=True) if cuda\\\n",
    "                    else dict(shuffle=False, batch_size=1)\n",
    "valid_loader = DataLoader(test_dataset, **test_loader_args, collate_fn=collate_indic)"
   ]
  },
  {
   "cell_type": "code",
   "execution_count": 14,
   "metadata": {},
   "outputs": [],
   "source": [
    "class RNNClassifier(nn.Module):\n",
    "    def __init__(self, vocab_size=63, embed_size=128, hidden_size=128, label_size=6):\n",
    "        super().__init__()\n",
    "        self.embed = nn.Embedding(vocab_size, embed_size)\n",
    "\n",
    "        self.cnn  = nn.Conv1d(embed_size, embed_size, kernel_size=3, padding=1)\n",
    "        self.cnn2 = nn.Conv1d(embed_size, embed_size, kernel_size=5, padding=2)\n",
    "\n",
    "        self.batchnorm = nn.BatchNorm1d(embed_size*2)\n",
    "\n",
    "        self.lstm = nn.LSTM(embed_size*2, hidden_size, num_layers=2)\n",
    "        self.linear = nn.Linear(hidden_size, label_size)\n",
    "\n",
    "    def forward(self, x, lengths):\n",
    "        \"\"\"\n",
    "        padded_x: (B,T) padded LongTensor\n",
    "        \"\"\"\n",
    "\n",
    "        # B,T,H\n",
    "        input = self.embed(x)\n",
    "\n",
    "        # (B,T,H) -> (B,H,T)\n",
    "        input = input.transpose(1,2)\n",
    "        embeddings = input##saved for attention\n",
    "\n",
    "        cnn_output = torch.cat([self.cnn(input), self.cnn2(input)], dim=1)\n",
    "\n",
    "        # (B,H,T)\n",
    "        input = F.relu(self.batchnorm(cnn_output))\n",
    "\n",
    "        input = input.transpose(1,2)\n",
    "\n",
    "        pack_tensor = nn.utils.rnn.pack_padded_sequence(input, lengths, batch_first=True)\n",
    "\n",
    "        _, (hn, cn) = self.lstm(pack_tensor)\n",
    "        \n",
    "        #doing attention\n",
    "        cos = nn.CosineSimilarity(dim=1, eps=1e-6)\n",
    "        batch_size = hn[-1].shape[0]\n",
    "        emb_size = embeddings.shape[1]\n",
    "        seq_len = embeddings.shape[2]\n",
    "\n",
    "        attention = torch.zeros([batch_size, seq_len]).to(device)\n",
    "        \n",
    "        \n",
    "        for t in range(seq_len):\n",
    "            attention[:,t] = torch.diagonal(torch.matmul(embeddings[:,:,t], hn[-1].T))\n",
    "            #attention[:,t] = cos(embeddings[:,:,t], hn[-1])\n",
    "            \n",
    "        #normalize = torch.sum(attention, dim=1).reshape(-1,1)\n",
    "        #attention = attention/normalize\n",
    "        attention /= (128**0.5)\n",
    "\n",
    "        \n",
    "        output = torch.zeros([batch_size, emb_size]).to(device)\n",
    "        for t in range(seq_len):\n",
    "            weights = attention[:,t].reshape(-1,1)\n",
    "            output += weights*embeddings[:,:,t]\n",
    "        \n",
    "\n",
    "        #output, _ = nn.utils.rnn.pad_packed_sequence(output, batch_first=True)\n",
    "        #output = torch.cat([hn[0], hn[1]], dim=1)\n",
    "        logits = self.linear(output)\n",
    "\n",
    "        return logits, attention"
   ]
  },
  {
   "cell_type": "code",
   "execution_count": 15,
   "metadata": {},
   "outputs": [
    {
     "data": {
      "text/plain": [
       "RNNClassifier(\n",
       "  (embed): Embedding(63, 128)\n",
       "  (cnn): Conv1d(128, 128, kernel_size=(3,), stride=(1,), padding=(1,))\n",
       "  (cnn2): Conv1d(128, 128, kernel_size=(5,), stride=(1,), padding=(2,))\n",
       "  (batchnorm): BatchNorm1d(256, eps=1e-05, momentum=0.1, affine=True, track_running_stats=True)\n",
       "  (lstm): LSTM(256, 128, num_layers=2)\n",
       "  (linear): Linear(in_features=128, out_features=6, bias=True)\n",
       ")"
      ]
     },
     "execution_count": 15,
     "metadata": {},
     "output_type": "execute_result"
    }
   ],
   "source": [
    "model = RNNClassifier()\n",
    "#opt = optim.Adam(model.parameters(), lr = 0.001)\n",
    "opt = SGD(model.parameters(), lr=0.1)\n",
    "device = torch.device(\"cuda\" if cuda else \"cpu\")\n",
    "model.to(device)"
   ]
  },
  {
   "cell_type": "code",
   "execution_count": 16,
   "metadata": {},
   "outputs": [],
   "source": [
    "opt = optim.Adam(model.parameters(), lr = 0.0001)"
   ]
  },
  {
   "cell_type": "code",
   "execution_count": 17,
   "metadata": {},
   "outputs": [
    {
     "name": "stdout",
     "output_type": "stream",
     "text": [
      "hindi hindi\n",
      "train acc:  0.1726129799524295  train loss:  0.8463237544764644 --time: 7.161576747894287\n",
      "validation:  0.13 --max 0.13 --time: 7.42721700668335\n",
      "train acc:  0.1906218144750255  train loss:  0.5269611853620281 --time: 6.632355213165283\n",
      "validation:  0.19333333333333333 --max 0.19333333333333333 --time: 6.896751165390015\n",
      "train acc:  0.2969758749575263  train loss:  0.4723282728506171 --time: 6.9942543506622314\n",
      "validation:  0.23 --max 0.23 --time: 7.2546985149383545\n",
      "train acc:  0.32653754672103297  train loss:  0.4466769513876542 --time: 6.613900423049927\n",
      "validation:  0.25333333333333335 --max 0.25333333333333335 --time: 6.879828691482544\n",
      "train acc:  0.35372069317023447  train loss:  0.4350669461747874 --time: 6.818146467208862\n",
      "validation:  0.26 --max 0.26 --time: 7.104305744171143\n",
      "train acc:  0.3673122663948352  train loss:  0.42938155842863995 --time: 6.905715703964233\n",
      "validation:  0.25333333333333335 --max 0.26 --time: 7.174012899398804\n",
      "train acc:  0.3907577302072715  train loss:  0.4197282648604849 --time: 6.718927383422852\n",
      "validation:  0.2633333333333333 --max 0.2633333333333333 --time: 6.978572368621826\n",
      "train acc:  0.4023105674481821  train loss:  0.4129153723302095 --time: 6.423985004425049\n",
      "validation:  0.26666666666666666 --max 0.26666666666666666 --time: 6.694072961807251\n",
      "train acc:  0.40400951410125724  train loss:  0.40931086695712543 --time: 6.704825401306152\n",
      "validation:  0.3 --max 0.3 --time: 6.97687840461731\n",
      "train acc:  0.4111450900441726  train loss:  0.40174194004224695 --time: 6.713330030441284\n",
      "validation:  0.3 --max 0.3 --time: 6.979979753494263\n",
      "train acc:  0.40978593272171254  train loss:  0.4047422538632932 --time: 7.072350263595581\n",
      "validation:  0.3 --max 0.3 --time: 7.340599298477173\n",
      "train acc:  0.44070676180767926  train loss:  0.3947208925433781 --time: 6.9737913608551025\n",
      "validation:  0.33 --max 0.33 --time: 7.2413649559021\n",
      "train acc:  0.4509004417261298  train loss:  0.387319459863331 --time: 6.516444444656372\n",
      "validation:  0.30666666666666664 --max 0.33 --time: 6.777921915054321\n",
      "train acc:  0.4570166496772001  train loss:  0.38349168585694354 --time: 7.000261068344116\n",
      "validation:  0.3433333333333333 --max 0.3433333333333333 --time: 7.268265247344971\n",
      "train acc:  0.4801223241590214  train loss:  0.3741913113905036 --time: 6.686052560806274\n",
      "validation:  0.3333333333333333 --max 0.3433333333333333 --time: 6.95359992980957\n",
      "train acc:  0.4865783214407068  train loss:  0.3644284683725108 --time: 6.536074161529541\n",
      "validation:  0.37 --max 0.37 --time: 6.8052709102630615\n",
      "train acc:  0.4957526333673123  train loss:  0.3588432864002559 --time: 6.503957509994507\n",
      "validation:  0.35333333333333333 --max 0.37 --time: 6.766547441482544\n",
      "train acc:  0.49065579340808696  train loss:  0.3666613594345424 --time: 6.764655828475952\n",
      "validation:  0.3566666666666667 --max 0.37 --time: 7.028664827346802\n",
      "train acc:  0.5293917770981991  train loss:  0.3445696519768756 --time: 8.037733793258667\n",
      "validation:  0.36 --max 0.37 --time: 8.614792585372925\n",
      "train acc:  0.5596330275229358  train loss:  0.3286933510199837 --time: 12.9485502243042\n",
      "validation:  0.42333333333333334 --max 0.42333333333333334 --time: 13.404343605041504\n",
      "train acc:  0.5688073394495413  train loss:  0.32555747161740844 --time: 12.76252269744873\n",
      "validation:  0.42 --max 0.42333333333333334 --time: 13.394903898239136\n",
      "train acc:  0.5987088005436629  train loss:  0.3106354643469271 --time: 12.70634412765503\n",
      "validation:  0.43666666666666665 --max 0.43666666666666665 --time: 13.143308877944946\n",
      "train acc:  0.636085626911315  train loss:  0.2894605637892433 --time: 8.627070665359497\n",
      "validation:  0.51 --max 0.51 --time: 8.89652681350708\n",
      "train acc:  0.6585117227319062  train loss:  0.27647974568864575 --time: 6.7585413455963135\n",
      "validation:  0.5166666666666667 --max 0.5166666666666667 --time: 7.0229856967926025\n",
      "train acc:  0.6530750934420659  train loss:  0.2875789676023566 --time: 6.925034999847412\n",
      "validation:  0.51 --max 0.5166666666666667 --time: 7.195937633514404\n",
      "train acc:  0.6870540265035678  train loss:  0.2570476629163908 --time: 6.887223243713379\n",
      "validation:  0.5566666666666666 --max 0.5566666666666666 --time: 7.156368255615234\n",
      "train acc:  0.7200135915732246  train loss:  0.2397568588671477 --time: 6.626449823379517\n",
      "validation:  0.5733333333333334 --max 0.5733333333333334 --time: 6.890054941177368\n",
      "train acc:  0.7186544342507645  train loss:  0.23456737139950629 --time: 6.622910737991333\n",
      "validation:  0.6166666666666667 --max 0.6166666666666667 --time: 6.888988256454468\n",
      "train acc:  0.7302072714916752  train loss:  0.22528456216273102 --time: 7.0194761753082275\n",
      "validation:  0.6233333333333333 --max 0.6233333333333333 --time: 7.279556751251221\n",
      "train acc:  0.7628270472307169  train loss:  0.20770528523818307 --time: 6.552522897720337\n",
      "validation:  0.6333333333333333 --max 0.6333333333333333 --time: 6.823774337768555\n",
      "train acc:  0.7849133537206932  train loss:  0.19288627997688626 --time: 6.814935922622681\n",
      "validation:  0.64 --max 0.64 --time: 7.078254222869873\n",
      "train acc:  0.8056405028882093  train loss:  0.17371988490871762 --time: 6.889166593551636\n",
      "validation:  0.6733333333333333 --max 0.6733333333333333 --time: 7.158212900161743\n",
      "train acc:  0.8165137614678899  train loss:  0.1693048004222953 --time: 6.809840679168701\n",
      "validation:  0.6866666666666666 --max 0.6866666666666666 --time: 7.071350336074829\n",
      "train acc:  0.8202514441046551  train loss:  0.16104742560697638 --time: 6.928254842758179\n",
      "validation:  0.6833333333333333 --max 0.6866666666666666 --time: 7.192874431610107\n",
      "train acc:  0.8314644920149508  train loss:  0.1522893970427306 --time: 6.700385808944702\n",
      "validation:  0.71 --max 0.71 --time: 6.965838193893433\n",
      "train acc:  0.8304451240231057  train loss:  0.15308918803930283 --time: 6.972736120223999\n",
      "validation:  0.71 --max 0.71 --time: 7.239394664764404\n",
      "train acc:  0.836901121304791  train loss:  0.149146919341191 --time: 6.568063497543335\n",
      "validation:  0.68 --max 0.71 --time: 6.834968090057373\n",
      "train acc:  0.8202514441046551  train loss:  0.15545907163101694 --time: 7.023839950561523\n",
      "validation:  0.7233333333333334 --max 0.7233333333333334 --time: 7.294449329376221\n",
      "train acc:  0.8457356439007815  train loss:  0.138897273203601 --time: 6.959234237670898\n",
      "validation:  0.7333333333333333 --max 0.7333333333333333 --time: 7.227658271789551\n",
      "train acc:  0.8739381583418281  train loss:  0.11804288042628247 --time: 6.9366090297698975\n",
      "validation:  0.7266666666666667 --max 0.7333333333333333 --time: 7.260263681411743\n",
      "train acc:  0.8732585796805981  train loss:  0.11490727928669556 --time: 6.5645740032196045\n",
      "validation:  0.7333333333333333 --max 0.7333333333333333 --time: 6.824554920196533\n",
      "train acc:  0.874277947672443  train loss:  0.11601069666769194 --time: 7.091461420059204\n",
      "validation:  0.7666666666666667 --max 0.7666666666666667 --time: 7.360081434249878\n",
      "train acc:  0.8868501529051988  train loss:  0.10431643899368204 --time: 6.692877292633057\n",
      "validation:  0.7533333333333333 --max 0.7666666666666667 --time: 6.960214614868164\n",
      "train acc:  0.8977234114848793  train loss:  0.10213501686635225 --time: 6.905674457550049\n",
      "validation:  0.75 --max 0.7666666666666667 --time: 7.167057037353516\n",
      "train acc:  0.9055385660890248  train loss:  0.09376069903373718 --time: 6.762542724609375\n",
      "validation:  0.77 --max 0.77 --time: 7.030030250549316\n",
      "train acc:  0.910295616717635  train loss:  0.09047582486401433 --time: 6.572324514389038\n",
      "validation:  0.7766666666666666 --max 0.7766666666666666 --time: 6.8382346630096436\n",
      "train acc:  0.9235474006116208  train loss:  0.08350946527460347 --time: 6.764922618865967\n",
      "validation:  0.7833333333333333 --max 0.7833333333333333 --time: 7.029433727264404\n",
      "train acc:  0.9177709819911655  train loss:  0.08229164406657219 --time: 6.899441480636597\n",
      "validation:  0.7866666666666666 --max 0.7866666666666666 --time: 7.159820795059204\n",
      "train acc:  0.9303431872239212  train loss:  0.07483865790393042 --time: 6.478109121322632\n",
      "validation:  0.7833333333333333 --max 0.7866666666666666 --time: 6.74871563911438\n",
      "train acc:  0.8732585796805981  train loss:  0.12838293077505153 --time: 6.783771514892578\n",
      "validation:  0.73 --max 0.7866666666666666 --time: 7.048520565032959\n",
      "train acc:  0.8888888888888888  train loss:  0.10501853635777599 --time: 6.416590452194214\n"
     ]
    },
    {
     "name": "stdout",
     "output_type": "stream",
     "text": [
      "validation:  0.7566666666666667 --max 0.7866666666666666 --time: 6.679394483566284\n",
      "train acc:  0.9177709819911655  train loss:  0.0862994751204615 --time: 6.443640232086182\n",
      "validation:  0.7733333333333333 --max 0.7866666666666666 --time: 6.7070043087005615\n",
      "train acc:  0.9228678219503907  train loss:  0.08127831797236981 --time: 6.583440542221069\n",
      "validation:  0.7833333333333333 --max 0.7866666666666666 --time: 6.864807367324829\n",
      "train acc:  0.9357798165137615  train loss:  0.07697808904492337 --time: 6.91439151763916\n",
      "validation:  0.8 --max 0.8 --time: 7.176119804382324\n",
      "train acc:  0.9469928644240571  train loss:  0.06286683079341183 --time: 6.507314443588257\n",
      "validation:  0.8133333333333334 --max 0.8133333333333334 --time: 6.7694292068481445\n",
      "train acc:  0.9551478083588175  train loss:  0.0540136039742957 --time: 6.627199172973633\n",
      "validation:  0.8066666666666666 --max 0.8133333333333334 --time: 6.8913068771362305\n",
      "train acc:  0.9595650696568128  train loss:  0.04939277048992074 --time: 6.93895697593689\n",
      "validation:  0.82 --max 0.82 --time: 7.200406789779663\n",
      "train acc:  0.9602446483180428  train loss:  0.05030839809257051 --time: 6.810079336166382\n",
      "validation:  0.81 --max 0.82 --time: 7.0712854862213135\n",
      "train acc:  0.9677200135915732  train loss:  0.04552235000807306 --time: 6.8500142097473145\n",
      "validation:  0.8166666666666667 --max 0.82 --time: 7.119574546813965\n",
      "train acc:  0.9690791709140333  train loss:  0.03982449881732464 --time: 6.505601406097412\n",
      "validation:  0.8266666666666667 --max 0.8266666666666667 --time: 6.765797853469849\n",
      "train acc:  0.9667006455997281  train loss:  0.04088593363437964 --time: 6.814492464065552\n",
      "validation:  0.8233333333333334 --max 0.8266666666666667 --time: 7.079951524734497\n",
      "train acc:  0.9728168535507985  train loss:  0.03987645382142585 --time: 6.966048002243042\n",
      "validation:  0.83 --max 0.83 --time: 7.23337984085083\n",
      "train acc:  0.9622833843017329  train loss:  0.052868055746607155 --time: 6.7052857875823975\n",
      "validation:  0.8333333333333334 --max 0.8333333333333334 --time: 6.969189405441284\n",
      "train acc:  0.9673802242609582  train loss:  0.04495590495998445 --time: 6.777420520782471\n",
      "validation:  0.8266666666666667 --max 0.8333333333333334 --time: 7.043439626693726\n",
      "train acc:  0.9755351681957186  train loss:  0.03345483274239561 --time: 6.930972576141357\n",
      "validation:  0.81 --max 0.8333333333333334 --time: 7.197331666946411\n",
      "train acc:  0.9768943255181787  train loss:  0.030996758328831715 --time: 6.869817733764648\n",
      "validation:  0.8333333333333334 --max 0.8333333333333334 --time: 7.134008884429932\n",
      "train acc:  0.9802922188243289  train loss:  0.029750530972428944 --time: 6.56969141960144\n",
      "validation:  0.8533333333333334 --max 0.8533333333333334 --time: 6.835341215133667\n",
      "train acc:  0.9768943255181787  train loss:  0.0306030858470046 --time: 6.8655784130096436\n",
      "validation:  0.8133333333333334 --max 0.8533333333333334 --time: 7.127281904220581\n",
      "train acc:  0.9415562351342168  train loss:  0.06312435233722562 --time: 6.628389596939087\n",
      "validation:  0.81 --max 0.8533333333333334 --time: 6.892414331436157\n",
      "train acc:  0.964661909616038  train loss:  0.04596227779984474 --time: 7.002463340759277\n",
      "validation:  0.8333333333333334 --max 0.8533333333333334 --time: 7.26827073097229\n",
      "train acc:  0.9806320081549439  train loss:  0.030966792903516605 --time: 6.845516204833984\n",
      "validation:  0.8133333333333334 --max 0.8533333333333334 --time: 7.117535352706909\n",
      "train acc:  0.9785932721712538  train loss:  0.02732366287028012 --time: 6.428543329238892\n",
      "validation:  0.85 --max 0.8533333333333334 --time: 6.689453363418579\n",
      "train acc:  0.9860686374447842  train loss:  0.021818538641800053 --time: 6.922491550445557\n",
      "validation:  0.8566666666666667 --max 0.8566666666666667 --time: 7.191931486129761\n",
      "train acc:  0.9898063200815495  train loss:  0.01947377269844646 --time: 6.904447078704834\n",
      "validation:  0.8433333333333334 --max 0.8566666666666667 --time: 7.167593479156494\n",
      "train acc:  0.9891267414203194  train loss:  0.01724857351054316 --time: 7.239850044250488\n",
      "validation:  0.8533333333333334 --max 0.8566666666666667 --time: 7.500247955322266\n",
      "train acc:  0.9901461094121644  train loss:  0.017190277778907963 --time: 6.79622220993042\n",
      "validation:  0.87 --max 0.87 --time: 7.0618531703948975\n",
      "train acc:  0.9894665307509344  train loss:  0.017328394678137873 --time: 6.868244647979736\n",
      "validation:  0.8533333333333334 --max 0.87 --time: 7.13220477104187\n",
      "train acc:  0.9904858987427795  train loss:  0.016908217302483063 --time: 6.274712562561035\n",
      "validation:  0.8533333333333334 --max 0.87 --time: 6.538711786270142\n",
      "train acc:  0.9915052667346246  train loss:  0.014781001955270767 --time: 6.8577563762664795\n",
      "validation:  0.87 --max 0.87 --time: 7.124844551086426\n",
      "train acc:  0.9911654774040095  train loss:  0.014483224883999514 --time: 6.799434661865234\n",
      "validation:  0.8566666666666667 --max 0.87 --time: 7.063811540603638\n",
      "train acc:  0.9921848453958546  train loss:  0.013493378039287485 --time: 6.720904350280762\n",
      "validation:  0.8733333333333333 --max 0.8733333333333333 --time: 6.989277601242065\n",
      "train acc:  0.9935440027183147  train loss:  0.013063879157214062 --time: 6.712459564208984\n",
      "validation:  0.8733333333333333 --max 0.8733333333333333 --time: 6.977375030517578\n",
      "train acc:  0.9942235813795447  train loss:  0.011309081607538721 --time: 6.76627779006958\n",
      "validation:  0.8666666666666667 --max 0.8733333333333333 --time: 7.0276031494140625\n",
      "train acc:  0.9952429493713897  train loss:  0.010356694054992302 --time: 6.770228624343872\n",
      "validation:  0.8666666666666667 --max 0.8733333333333333 --time: 7.033424377441406\n",
      "train acc:  0.963642541624193  train loss:  0.056628541798209364 --time: 6.817188024520874\n",
      "validation:  0.75 --max 0.8733333333333333 --time: 7.082234144210815\n",
      "train acc:  0.9524294937138974  train loss:  0.06262693699935208 --time: 6.674363851547241\n",
      "validation:  0.83 --max 0.8733333333333333 --time: 6.94427752494812\n",
      "train acc:  0.9707781175671084  train loss:  0.03721691149732341 --time: 6.935243606567383\n",
      "validation:  0.8466666666666667 --max 0.8733333333333333 --time: 7.198948383331299\n",
      "train acc:  0.9874277947672443  train loss:  0.019723690843776516 --time: 6.5772483348846436\n",
      "validation:  0.8566666666666667 --max 0.8733333333333333 --time: 6.838799715042114\n",
      "train acc:  0.9915052667346246  train loss:  0.01769657214374646 --time: 6.371470928192139\n",
      "validation:  0.8766666666666667 --max 0.8766666666666667 --time: 6.643176317214966\n",
      "train acc:  0.9932042133876996  train loss:  0.014659453325135552 --time: 6.893235921859741\n",
      "validation:  0.86 --max 0.8766666666666667 --time: 7.155543327331543\n",
      "train acc:  0.9942235813795447  train loss:  0.011663908219855764 --time: 6.828158617019653\n",
      "validation:  0.86 --max 0.8766666666666667 --time: 7.10088586807251\n",
      "train acc:  0.9942235813795447  train loss:  0.01159922669277243 --time: 6.1166832447052\n",
      "validation:  0.8633333333333333 --max 0.8766666666666667 --time: 6.38045334815979\n",
      "train acc:  0.9942235813795447  train loss:  0.009644348741225574 --time: 7.138861179351807\n",
      "validation:  0.8733333333333333 --max 0.8766666666666667 --time: 7.410950660705566\n",
      "train acc:  0.9952429493713897  train loss:  0.008822736937714659 --time: 6.93164587020874\n",
      "validation:  0.8666666666666667 --max 0.8766666666666667 --time: 7.204309463500977\n",
      "train acc:  0.9949031600407747  train loss:  0.008899750349962193 --time: 6.918322563171387\n",
      "validation:  0.8733333333333333 --max 0.8766666666666667 --time: 7.1898884773254395\n",
      "train acc:  0.9942235813795447  train loss:  0.00914415662460353 --time: 6.827753782272339\n",
      "validation:  0.8766666666666667 --max 0.8766666666666667 --time: 7.089706659317017\n",
      "train acc:  0.9945633707101597  train loss:  0.007986896772585485 --time: 6.882148742675781\n",
      "validation:  0.8633333333333333 --max 0.8766666666666667 --time: 7.144627094268799\n",
      "train acc:  0.9966021066938499  train loss:  0.0077605943155029545 --time: 6.738358020782471\n",
      "validation:  0.8633333333333333 --max 0.8766666666666667 --time: 7.006250619888306\n",
      "train acc:  0.9945633707101597  train loss:  0.009066313221726728 --time: 6.895405292510986\n",
      "validation:  0.8566666666666667 --max 0.8766666666666667 --time: 7.158565521240234\n",
      "train acc:  0.9949031600407747  train loss:  0.011584558544437523 --time: 6.531537294387817\n"
     ]
    },
    {
     "name": "stdout",
     "output_type": "stream",
     "text": [
      "validation:  0.86 --max 0.8766666666666667 --time: 6.861058235168457\n",
      "train acc:  0.9187903499830106  train loss:  0.11935571856472803 --time: 6.303326606750488\n",
      "validation:  0.8066666666666666 --max 0.8766666666666667 --time: 6.571889877319336\n",
      "train acc:  0.9612640163098879  train loss:  0.0500251870278431 --time: 6.659639835357666\n",
      "validation:  0.87 --max 0.8766666666666667 --time: 6.9197587966918945\n",
      "train acc:  0.9864084267753993  train loss:  0.02528473010043735 --time: 6.535755157470703\n",
      "validation:  0.8533333333333334 --max 0.8766666666666667 --time: 6.797919273376465\n",
      "train acc:  0.9918450560652395  train loss:  0.016604858855514423 --time: 6.710232734680176\n",
      "validation:  0.87 --max 0.8766666666666667 --time: 6.972578287124634\n",
      "train acc:  0.9952429493713897  train loss:  0.010720376451702221 --time: 6.621676445007324\n",
      "validation:  0.88 --max 0.88 --time: 6.891367435455322\n",
      "train acc:  0.9952429493713897  train loss:  0.009262554479115035 --time: 6.989910125732422\n",
      "validation:  0.8733333333333333 --max 0.88 --time: 7.255498647689819\n",
      "train acc:  0.9952429493713897  train loss:  0.008857713637711562 --time: 6.520912170410156\n",
      "validation:  0.8733333333333333 --max 0.88 --time: 6.782139301300049\n",
      "train acc:  0.9955827387020048  train loss:  0.008584197904185756 --time: 6.671377420425415\n",
      "validation:  0.88 --max 0.88 --time: 6.937362432479858\n",
      "train acc:  0.9962623173632348  train loss:  0.007700279719479706 --time: 6.900191307067871\n",
      "validation:  0.8766666666666667 --max 0.88 --time: 7.161425590515137\n",
      "train acc:  0.9969418960244648  train loss:  0.007130103671680326 --time: 6.66862416267395\n",
      "validation:  0.87 --max 0.88 --time: 6.936424255371094\n",
      "train acc:  0.9962623173632348  train loss:  0.00675176510222904 --time: 6.687879323959351\n",
      "validation:  0.8766666666666667 --max 0.88 --time: 6.949471473693848\n",
      "train acc:  0.9969418960244648  train loss:  0.006739140852637913 --time: 6.757622718811035\n",
      "validation:  0.8766666666666667 --max 0.88 --time: 7.025754690170288\n",
      "train acc:  0.9966021066938499  train loss:  0.006664718126716173 --time: 6.597002983093262\n",
      "validation:  0.8766666666666667 --max 0.88 --time: 6.860201835632324\n",
      "train acc:  0.9955827387020048  train loss:  0.006862168989913619 --time: 6.443284273147583\n",
      "validation:  0.8766666666666667 --max 0.88 --time: 6.7060627937316895\n",
      "train acc:  0.9966021066938499  train loss:  0.006324017035734394 --time: 6.794748544692993\n",
      "validation:  0.8766666666666667 --max 0.88 --time: 7.055961608886719\n",
      "train acc:  0.9972816853550799  train loss:  0.0062539365911937275 --time: 6.717448711395264\n",
      "validation:  0.8733333333333333 --max 0.88 --time: 6.978033065795898\n",
      "train acc:  0.9972816853550799  train loss:  0.00602130733339278 --time: 6.689666032791138\n",
      "validation:  0.8833333333333333 --max 0.8833333333333333 --time: 6.955039739608765\n",
      "train acc:  0.9976214746856948  train loss:  0.005909931461286285 --time: 6.844155550003052\n",
      "validation:  0.87 --max 0.8833333333333333 --time: 7.108300685882568\n",
      "train acc:  0.9972816853550799  train loss:  0.005351106190811033 --time: 6.850315809249878\n",
      "validation:  0.88 --max 0.8833333333333333 --time: 7.123798847198486\n",
      "train acc:  0.9959225280326198  train loss:  0.007534588616260368 --time: 6.566283702850342\n",
      "validation:  0.88 --max 0.8833333333333333 --time: 6.836803197860718\n",
      "train acc:  0.9860686374447842  train loss:  0.018822526974279597 --time: 6.7108869552612305\n",
      "validation:  0.85 --max 0.8833333333333333 --time: 7.00984525680542\n",
      "train acc:  0.9928644240570846  train loss:  0.01352629502830298 --time: 6.789173603057861\n",
      "validation:  0.86 --max 0.8833333333333333 --time: 7.0731847286224365\n",
      "train acc:  0.9945633707101597  train loss:  0.010046360052555152 --time: 6.436107635498047\n",
      "validation:  0.8666666666666667 --max 0.8833333333333333 --time: 6.728307008743286\n",
      "train acc:  0.9962623173632348  train loss:  0.008510242606027296 --time: 7.079760313034058\n",
      "validation:  0.8766666666666667 --max 0.8833333333333333 --time: 7.350414276123047\n",
      "train acc:  0.9843696907917091  train loss:  0.028792673316986664 --time: 6.86002254486084\n",
      "validation:  0.8533333333333334 --max 0.8833333333333333 --time: 7.148713111877441\n",
      "train acc:  0.9826707441386341  train loss:  0.027408904193536095 --time: 6.800337076187134\n",
      "validation:  0.8566666666666667 --max 0.8833333333333333 --time: 7.070922374725342\n",
      "train acc:  0.9918450560652395  train loss:  0.017003083844547687 --time: 6.764791250228882\n",
      "validation:  0.8466666666666667 --max 0.8833333333333333 --time: 7.030400037765503\n",
      "train acc:  0.9952429493713897  train loss:  0.009725499199703336 --time: 6.7297139167785645\n",
      "validation:  0.8666666666666667 --max 0.8833333333333333 --time: 6.999827146530151\n",
      "train acc:  0.9966021066938499  train loss:  0.006755351291402527 --time: 6.894897699356079\n",
      "validation:  0.86 --max 0.8833333333333333 --time: 7.16102933883667\n",
      "train acc:  0.9972816853550799  train loss:  0.005869936709211249 --time: 6.935997486114502\n",
      "validation:  0.87 --max 0.8833333333333333 --time: 7.223287582397461\n",
      "train acc:  0.9976214746856948  train loss:  0.00558571861145775 --time: 6.798368215560913\n",
      "validation:  0.87 --max 0.8833333333333333 --time: 7.06350564956665\n",
      "train acc:  0.9836901121304791  train loss:  0.026848877365093515 --time: 6.799638748168945\n",
      "validation:  0.87 --max 0.8833333333333333 --time: 7.065029144287109\n",
      "train acc:  0.9874277947672443  train loss:  0.019403485135863655 --time: 6.668179035186768\n",
      "validation:  0.83 --max 0.8833333333333333 --time: 6.940143823623657\n",
      "train acc:  0.9955827387020048  train loss:  0.0095246740333412 --time: 6.8856096267700195\n",
      "validation:  0.8566666666666667 --max 0.8833333333333333 --time: 7.148163795471191\n",
      "train acc:  0.9962623173632348  train loss:  0.006432121482920711 --time: 6.932670831680298\n",
      "validation:  0.8533333333333334 --max 0.8833333333333333 --time: 7.195765018463135\n",
      "train acc:  0.9972816853550799  train loss:  0.005395750732808981 --time: 6.811416149139404\n",
      "validation:  0.8633333333333333 --max 0.8833333333333333 --time: 7.075421333312988\n",
      "train acc:  0.9979612640163099  train loss:  0.005485249663014774 --time: 6.194847345352173\n",
      "validation:  0.8633333333333333 --max 0.8833333333333333 --time: 6.462568998336792\n",
      "train acc:  0.9983010533469249  train loss:  0.004854466634519074 --time: 6.87415075302124\n",
      "validation:  0.8666666666666667 --max 0.8833333333333333 --time: 7.146149396896362\n",
      "train acc:  0.9979612640163099  train loss:  0.004622385608103207 --time: 6.785775661468506\n",
      "validation:  0.86 --max 0.8833333333333333 --time: 7.050819396972656\n",
      "train acc:  0.9979612640163099  train loss:  0.0044361547005119855 --time: 6.797944068908691\n",
      "validation:  0.8633333333333333 --max 0.8833333333333333 --time: 7.063510894775391\n",
      "train acc:  0.9983010533469249  train loss:  0.0042837893263862024 --time: 6.870394229888916\n",
      "validation:  0.8733333333333333 --max 0.8833333333333333 --time: 7.139695882797241\n",
      "train acc:  0.9979612640163099  train loss:  0.004508043631769555 --time: 6.636184453964233\n",
      "validation:  0.8733333333333333 --max 0.8833333333333333 --time: 6.902782201766968\n",
      "train acc:  0.9983010533469249  train loss:  0.004122363469239486 --time: 6.908118009567261\n",
      "validation:  0.8633333333333333 --max 0.8833333333333333 --time: 7.172307968139648\n",
      "train acc:  0.9983010533469249  train loss:  0.004203683534718078 --time: 6.376235723495483\n",
      "validation:  0.8666666666666667 --max 0.8833333333333333 --time: 6.636517286300659\n",
      "train acc:  0.9983010533469249  train loss:  0.004234048988386665 --time: 6.654331684112549\n",
      "validation:  0.87 --max 0.8833333333333333 --time: 6.9188525676727295\n",
      "train acc:  0.9979612640163099  train loss:  0.004507878640889312 --time: 6.515415668487549\n",
      "validation:  0.86 --max 0.8833333333333333 --time: 6.7871317863464355\n",
      "train acc:  0.9983010533469249  train loss:  0.004763212634513721 --time: 6.894239664077759\n",
      "validation:  0.8733333333333333 --max 0.8833333333333333 --time: 7.1635823249816895\n",
      "train acc:  0.9979612640163099  train loss:  0.004411142840779022 --time: 6.492364883422852\n",
      "validation:  0.87 --max 0.8833333333333333 --time: 6.763023614883423\n",
      "train acc:  0.9989806320081549  train loss:  0.004035316020473028 --time: 6.759813070297241\n",
      "validation:  0.87 --max 0.8833333333333333 --time: 7.02449107170105\n",
      "train acc:  0.9979612640163099  train loss:  0.0038974042728786235 --time: 6.708072900772095\n"
     ]
    },
    {
     "name": "stdout",
     "output_type": "stream",
     "text": [
      "validation:  0.8633333333333333 --max 0.8833333333333333 --time: 6.975666761398315\n",
      "train acc:  0.9979612640163099  train loss:  0.0036748864171702576 --time: 6.72659158706665\n",
      "validation:  0.8666666666666667 --max 0.8833333333333333 --time: 6.990118980407715\n",
      "train acc:  0.9986408426775399  train loss:  0.0035504769228915075 --time: 6.519670009613037\n",
      "validation:  0.8633333333333333 --max 0.8833333333333333 --time: 6.794888973236084\n",
      "train acc:  0.9979612640163099  train loss:  0.003436053457730652 --time: 6.68100118637085\n",
      "validation:  0.87 --max 0.8833333333333333 --time: 6.946619272232056\n",
      "train acc:  0.9983010533469249  train loss:  0.0035033020261756105 --time: 6.460625410079956\n",
      "validation:  0.8566666666666667 --max 0.8833333333333333 --time: 6.723400592803955\n",
      "train acc:  0.9983010533469249  train loss:  0.003365291707703601 --time: 6.597901821136475\n",
      "validation:  0.8633333333333333 --max 0.8833333333333333 --time: 6.867200613021851\n",
      "train acc:  0.9983010533469249  train loss:  0.003384635316805266 --time: 6.860426902770996\n",
      "validation:  0.8766666666666667 --max 0.8833333333333333 --time: 7.1443235874176025\n",
      "train acc:  0.9983010533469249  train loss:  0.0034826740232782195 --time: 6.799036502838135\n",
      "validation:  0.8666666666666667 --max 0.8833333333333333 --time: 7.063677072525024\n"
     ]
    },
    {
     "name": "stderr",
     "output_type": "stream",
     "text": [
      "Traceback (most recent call last):\n",
      "  File \"/home/ubuntu/anaconda3/envs/pytorch_latest_p36/lib/python3.6/multiprocessing/queues.py\", line 240, in _feed\n",
      "    send_bytes(obj)\n",
      "  File \"/home/ubuntu/anaconda3/envs/pytorch_latest_p36/lib/python3.6/multiprocessing/connection.py\", line 200, in send_bytes\n",
      "    self._send_bytes(m[offset:offset + size])\n",
      "  File \"/home/ubuntu/anaconda3/envs/pytorch_latest_p36/lib/python3.6/multiprocessing/connection.py\", line 404, in _send_bytes\n",
      "    self._send(header + buf)\n",
      "  File \"/home/ubuntu/anaconda3/envs/pytorch_latest_p36/lib/python3.6/multiprocessing/connection.py\", line 368, in _send\n",
      "    n = write(self._handle, buf)\n",
      "BrokenPipeError: [Errno 32] Broken pipe\n"
     ]
    },
    {
     "ename": "KeyboardInterrupt",
     "evalue": "",
     "output_type": "error",
     "traceback": [
      "\u001b[0;31m---------------------------------------------------------------------------\u001b[0m",
      "\u001b[0;31mKeyboardInterrupt\u001b[0m                         Traceback (most recent call last)",
      "\u001b[0;32m<ipython-input-17-79551045f6b9>\u001b[0m in \u001b[0;36m<module>\u001b[0;34m\u001b[0m\n\u001b[1;32m     26\u001b[0m         \u001b[0mloss_accum\u001b[0m \u001b[0;34m+=\u001b[0m \u001b[0mloss_score\u001b[0m\u001b[0;34m\u001b[0m\u001b[0;34m\u001b[0m\u001b[0m\n\u001b[1;32m     27\u001b[0m         \u001b[0mbatch_cnt\u001b[0m \u001b[0;34m+=\u001b[0m \u001b[0;36m1\u001b[0m\u001b[0;34m\u001b[0m\u001b[0;34m\u001b[0m\u001b[0m\n\u001b[0;32m---> 28\u001b[0;31m         \u001b[0mloss\u001b[0m\u001b[0;34m.\u001b[0m\u001b[0mbackward\u001b[0m\u001b[0;34m(\u001b[0m\u001b[0;34m)\u001b[0m\u001b[0;34m\u001b[0m\u001b[0;34m\u001b[0m\u001b[0m\n\u001b[0m\u001b[1;32m     29\u001b[0m         \u001b[0mopt\u001b[0m\u001b[0;34m.\u001b[0m\u001b[0mstep\u001b[0m\u001b[0;34m(\u001b[0m\u001b[0;34m)\u001b[0m\u001b[0;34m\u001b[0m\u001b[0;34m\u001b[0m\u001b[0m\n\u001b[1;32m     30\u001b[0m \u001b[0;34m\u001b[0m\u001b[0m\n",
      "\u001b[0;32m~/anaconda3/envs/pytorch_latest_p36/lib/python3.6/site-packages/torch/tensor.py\u001b[0m in \u001b[0;36mbackward\u001b[0;34m(self, gradient, retain_graph, create_graph)\u001b[0m\n\u001b[1;32m    183\u001b[0m                 \u001b[0mproducts\u001b[0m\u001b[0;34m.\u001b[0m \u001b[0mDefaults\u001b[0m \u001b[0mto\u001b[0m\u001b[0;31m \u001b[0m\u001b[0;31m`\u001b[0m\u001b[0;31m`\u001b[0m\u001b[0;32mFalse\u001b[0m\u001b[0;31m`\u001b[0m\u001b[0;31m`\u001b[0m\u001b[0;34m.\u001b[0m\u001b[0;34m\u001b[0m\u001b[0;34m\u001b[0m\u001b[0m\n\u001b[1;32m    184\u001b[0m         \"\"\"\n\u001b[0;32m--> 185\u001b[0;31m         \u001b[0mtorch\u001b[0m\u001b[0;34m.\u001b[0m\u001b[0mautograd\u001b[0m\u001b[0;34m.\u001b[0m\u001b[0mbackward\u001b[0m\u001b[0;34m(\u001b[0m\u001b[0mself\u001b[0m\u001b[0;34m,\u001b[0m \u001b[0mgradient\u001b[0m\u001b[0;34m,\u001b[0m \u001b[0mretain_graph\u001b[0m\u001b[0;34m,\u001b[0m \u001b[0mcreate_graph\u001b[0m\u001b[0;34m)\u001b[0m\u001b[0;34m\u001b[0m\u001b[0;34m\u001b[0m\u001b[0m\n\u001b[0m\u001b[1;32m    186\u001b[0m \u001b[0;34m\u001b[0m\u001b[0m\n\u001b[1;32m    187\u001b[0m     \u001b[0;32mdef\u001b[0m \u001b[0mregister_hook\u001b[0m\u001b[0;34m(\u001b[0m\u001b[0mself\u001b[0m\u001b[0;34m,\u001b[0m \u001b[0mhook\u001b[0m\u001b[0;34m)\u001b[0m\u001b[0;34m:\u001b[0m\u001b[0;34m\u001b[0m\u001b[0;34m\u001b[0m\u001b[0m\n",
      "\u001b[0;32m~/anaconda3/envs/pytorch_latest_p36/lib/python3.6/site-packages/torch/autograd/__init__.py\u001b[0m in \u001b[0;36mbackward\u001b[0;34m(tensors, grad_tensors, retain_graph, create_graph, grad_variables)\u001b[0m\n\u001b[1;32m    125\u001b[0m     Variable._execution_engine.run_backward(\n\u001b[1;32m    126\u001b[0m         \u001b[0mtensors\u001b[0m\u001b[0;34m,\u001b[0m \u001b[0mgrad_tensors\u001b[0m\u001b[0;34m,\u001b[0m \u001b[0mretain_graph\u001b[0m\u001b[0;34m,\u001b[0m \u001b[0mcreate_graph\u001b[0m\u001b[0;34m,\u001b[0m\u001b[0;34m\u001b[0m\u001b[0;34m\u001b[0m\u001b[0m\n\u001b[0;32m--> 127\u001b[0;31m         allow_unreachable=True)  # allow_unreachable flag\n\u001b[0m\u001b[1;32m    128\u001b[0m \u001b[0;34m\u001b[0m\u001b[0m\n\u001b[1;32m    129\u001b[0m \u001b[0;34m\u001b[0m\u001b[0m\n",
      "\u001b[0;31mKeyboardInterrupt\u001b[0m: "
     ]
    }
   ],
   "source": [
    "print(train_language, test_language)\n",
    "max_acc = 0\n",
    "\n",
    "for i in range(1000):\n",
    "    #print(\"epoch \", i)\n",
    "    loss_accum = 0.0\n",
    "    batch_cnt = 0\n",
    "\n",
    "    acc_cnt = 0\n",
    "    err_cnt = 0\n",
    "\n",
    "    model.train()\n",
    "    start_time = time.time()\n",
    "    for batch, (x, lengths, y) in enumerate(train_loader):\n",
    "\n",
    "        x = x.to(device)\n",
    "        lengths = lengths.to(device)\n",
    "        y = y.to(device)\n",
    "        opt.zero_grad()\n",
    "        \n",
    "        logits, _ = model(x, lengths)\n",
    "\n",
    "        loss = nn.BCEWithLogitsLoss()(logits, y)\n",
    "        loss_score = loss.cpu().item()\n",
    "\n",
    "        loss_accum += loss_score\n",
    "        batch_cnt += 1\n",
    "        loss.backward()\n",
    "        opt.step()\n",
    "\n",
    "        out_val, out_indices = torch.max(logits, dim=1)\n",
    "        target_val, tar_indices = torch.max(y, dim=1)\n",
    "\n",
    "        for i in range(len(out_indices)):\n",
    "            if out_indices[i] == tar_indices[i]:\n",
    "                acc_cnt += 1\n",
    "            else:\n",
    "                err_cnt += 1\n",
    "\n",
    "    print(\"train acc: \", acc_cnt/(err_cnt+acc_cnt), \" train loss: \", loss_accum / batch_cnt, '--time:', time.time() - start_time)\n",
    "\n",
    "    model.eval()\n",
    "    acc_cnt = 0\n",
    "    err_cnt = 0\n",
    "\n",
    "    #start_time = time.time()\n",
    "    for x, lengths, y in valid_loader:\n",
    "\n",
    "        x = x.to(device)\n",
    "        lengths = lengths.to(device)\n",
    "        y = y.to(device)\n",
    "        \n",
    "        logits, _ = model(x, lengths)\n",
    "\n",
    "        out_val, out_indices = torch.max(logits, dim=1)\n",
    "        target_val, tar_indices = torch.max(y, dim=1)\n",
    "\n",
    "        for i in range(len(out_indices)):\n",
    "            if out_indices[i] == tar_indices[i]:\n",
    "                acc_cnt += 1\n",
    "            else:\n",
    "                err_cnt += 1\n",
    "\n",
    "    current_acc = acc_cnt/(err_cnt+acc_cnt)\n",
    "    if current_acc > max_acc:\n",
    "        max_acc = current_acc\n",
    "                \n",
    "    print(\"validation: \", current_acc, '--max', max_acc, '--time:', time.time() - start_time)"
   ]
  },
  {
   "cell_type": "code",
   "execution_count": null,
   "metadata": {},
   "outputs": [],
   "source": []
  },
  {
   "cell_type": "code",
   "execution_count": 87,
   "metadata": {},
   "outputs": [],
   "source": [
    "model.eval()\n",
    "acc_cnt = 0\n",
    "err_cnt = 0\n",
    "\n",
    "avg_weights = {}\n",
    "for x, lengths, y in valid_loader:\n",
    "\n",
    "    x = x.to(device)\n",
    "    lengths = lengths.to(device)\n",
    "    y = y.to(device)\n",
    "    \n",
    "    logits, attention = model(x, lengths)\n",
    "    out_val, out_indices = torch.max(logits, dim=1)\n",
    "    target_val, tar_indices = torch.max(y, dim=1)\n",
    "\n",
    "    counter = 0\n",
    "\n",
    "    for i, seq in enumerate(attention):\n",
    "        if tar_indices[i].item() == 0 and out_indices[i].item() == tar_indices[i].item():\n",
    "            counter += 1\n",
    "            phones = [idx_to_phone[idx.item()] for idx in x[i]]\n",
    "            \n",
    "            ##plotting\n",
    "            '''plt.figure(figsize=(20,5))\n",
    "            time = np.arange(seq.shape[0])\n",
    "            plt.plot(time, seq.cpu().detach().numpy().astype(int))\n",
    "            plt.xticks(time, phones)\n",
    "            plt.title(labels_to_intents[out_indices[i].item()])'''\n",
    "            \n",
    "            #calculating average weights\n",
    "            for idx in x[i]:\n",
    "                weight = float(seq[idx].cpu().detach().numpy())\n",
    "                phone = idx_to_phone[idx.item()]\n",
    "                \n",
    "                if phone not in avg_weights:\n",
    "                    avg_weights[phone] = [weight]\n",
    "                else:\n",
    "                    avg_weights[phone].append(weight)"
   ]
  },
  {
   "cell_type": "code",
   "execution_count": 88,
   "metadata": {},
   "outputs": [],
   "source": [
    "mean_weights = {}\n",
    "std_weights = {}\n",
    "for phone in avg_weights:\n",
    "    mean_weights[phone] = np.mean(avg_weights[phone])\n",
    "    std_weights[phone] = np.std(avg_weights[phone])"
   ]
  },
  {
   "cell_type": "code",
   "execution_count": 89,
   "metadata": {},
   "outputs": [
    {
     "data": {
      "text/plain": [
       "Text(0.5, 1.0, 'movie-tickets')"
      ]
     },
     "execution_count": 89,
     "metadata": {},
     "output_type": "execute_result"
    },
    {
     "data": {
      "image/png": "[encoded data removed]",
      "text/plain": [
       "<Figure size 720x216 with 1 Axes>"
      ]
     },
     "metadata": {
      "needs_background": "light"
     },
     "output_type": "display_data"
    }
   ],
   "source": [
    "plt.figure(figsize = (10,3))\n",
    "#x = np.arange(len(mean_weights))\n",
    "plt.bar(list(mean_weights.keys()), list(mean_weights.values()))\n",
    "plt.title(labels_to_intents[0])"
   ]
  },
  {
   "cell_type": "code",
   "execution_count": 86,
   "metadata": {},
   "outputs": [
    {
     "data": {
      "text/plain": [
       "Text(0.5, 1.0, 'auto-repair')"
      ]
     },
     "execution_count": 86,
     "metadata": {},
     "output_type": "execute_result"
    },
    {
     "data": {
      "image/png": "[encoded data removed]",
      "text/plain": [
       "<Figure size 720x216 with 1 Axes>"
      ]
     },
     "metadata": {
      "needs_background": "light"
     },
     "output_type": "display_data"
    }
   ],
   "source": [
    "plt.figure(figsize = (10,3))\n",
    "#x = np.arange(len(mean_weights))\n",
    "plt.bar(list(mean_weights.keys()), list(mean_weights.values()))\n",
    "plt.title(labels_to_intents[1])"
   ]
  },
  {
   "cell_type": "code",
   "execution_count": 83,
   "metadata": {},
   "outputs": [
    {
     "data": {
      "text/plain": [
       "Text(0.5, 1.0, 'restaurant-table')"
      ]
     },
     "execution_count": 83,
     "metadata": {},
     "output_type": "execute_result"
    },
    {
     "data": {
      "image/png": "[encoded data removed]",
      "text/plain": [
       "<Figure size 720x216 with 1 Axes>"
      ]
     },
     "metadata": {
      "needs_background": "light"
     },
     "output_type": "display_data"
    }
   ],
   "source": [
    "plt.figure(figsize = (10,3))\n",
    "#x = np.arange(len(mean_weights))\n",
    "plt.bar(list(mean_weights.keys()), list(mean_weights.values()))\n",
    "plt.title(labels_to_intents[2])"
   ]
  },
  {
   "cell_type": "code",
   "execution_count": 80,
   "metadata": {},
   "outputs": [
    {
     "data": {
      "text/plain": [
       "Text(0.5, 1.0, 'coffee-ordering')"
      ]
     },
     "execution_count": 80,
     "metadata": {},
     "output_type": "execute_result"
    },
    {
     "data": {
      "image/png": "[encoded data removed]",
      "text/plain": [
       "<Figure size 720x216 with 1 Axes>"
      ]
     },
     "metadata": {
      "needs_background": "light"
     },
     "output_type": "display_data"
    }
   ],
   "source": [
    "plt.figure(figsize = (10,3))\n",
    "#x = np.arange(len(mean_weights))\n",
    "plt.bar(list(mean_weights.keys()), list(mean_weights.values()))\n",
    "plt.title(labels_to_intents[5])"
   ]
  },
  {
   "cell_type": "code",
   "execution_count": 77,
   "metadata": {},
   "outputs": [
    {
     "data": {
      "text/plain": [
       "Text(0.5, 1.0, 'uber-lyft')"
      ]
     },
     "execution_count": 77,
     "metadata": {},
     "output_type": "execute_result"
    },
    {
     "data": {
      "image/png": "[encoded data removed]",
      "text/plain": [
       "<Figure size 720x216 with 1 Axes>"
      ]
     },
     "metadata": {
      "needs_background": "light"
     },
     "output_type": "display_data"
    }
   ],
   "source": [
    "plt.figure(figsize = (10,3))\n",
    "#x = np.arange(len(mean_weights))\n",
    "plt.bar(list(mean_weights.keys()), list(mean_weights.values()))\n",
    "plt.title(labels_to_intents[4])"
   ]
  },
  {
   "cell_type": "code",
   "execution_count": 73,
   "metadata": {},
   "outputs": [
    {
     "data": {
      "text/plain": [
       "Text(0.5, 1.0, 'pizza-ordering')"
      ]
     },
     "execution_count": 73,
     "metadata": {},
     "output_type": "execute_result"
    },
    {
     "data": {
      "image/png": "[encoded data removed]",
      "text/plain": [
       "<Figure size 720x216 with 1 Axes>"
      ]
     },
     "metadata": {
      "needs_background": "light"
     },
     "output_type": "display_data"
    }
   ],
   "source": [
    "plt.figure(figsize = (10,3))\n",
    "#x = np.arange(len(mean_weights))\n",
    "plt.bar(list(mean_weights.keys()), list(mean_weights.values()))\n",
    "plt.title(labels_to_intents[3])"
   ]
  },
  {
   "cell_type": "code",
   "execution_count": null,
   "metadata": {},
   "outputs": [],
   "source": []
  }
 ],
 "metadata": {
  "kernelspec": {
   "display_name": "Python 3",
   "language": "python",
   "name": "python3"
  },
  "language_info": {
   "codemirror_mode": {
    "name": "ipython",
    "version": 3
   },
   "file_extension": ".py",
   "mimetype": "text/x-python",
   "name": "python",
   "nbconvert_exporter": "python",
   "pygments_lexer": "ipython3",
   "version": "3.6.9"
  }
 },
 "nbformat": 4,
 "nbformat_minor": 4
}
